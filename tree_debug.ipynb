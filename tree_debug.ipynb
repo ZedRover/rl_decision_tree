{
 "cells": [
  {
   "cell_type": "code",
   "execution_count": 1,
   "metadata": {},
   "outputs": [],
   "source": [
    "from src.tree import DecisionTree\n",
    "from src.env import DecisionTreeEnv\n",
    "import numpy as np\n",
    "from sklearn.tree import DecisionTreeClassifier\n",
    "from sklearn.preprocessing import MinMaxScaler\n",
    "from sklearn.tree import export_text"
   ]
  },
  {
   "cell_type": "code",
   "execution_count": 2,
   "metadata": {},
   "outputs": [],
   "source": [
    "\n",
    "data = np.loadtxt('data/seeds',delimiter=',')"
   ]
  },
  {
   "cell_type": "code",
   "execution_count": 3,
   "metadata": {},
   "outputs": [
    {
     "data": {
      "text/plain": [
       "(210, 8)"
      ]
     },
     "execution_count": 3,
     "metadata": {},
     "output_type": "execute_result"
    }
   ],
   "source": [
    "data.shape"
   ]
  },
  {
   "cell_type": "code",
   "execution_count": 4,
   "metadata": {},
   "outputs": [],
   "source": [
    "X, y = data[:, :-1], data[:, -1].astype(int)\n",
    "scaler = MinMaxScaler()\n",
    "X = scaler.fit_transform(X)"
   ]
  },
  {
   "cell_type": "code",
   "execution_count": 5,
   "metadata": {},
   "outputs": [],
   "source": [
    "M, D = X.shape\n",
    "num_class = len(np.unique(y))\n",
    "tree = DecisionTree(max_depth=2, n_classes=num_class)"
   ]
  },
  {
   "cell_type": "code",
   "execution_count": 6,
   "metadata": {},
   "outputs": [],
   "source": [
    "cart = DecisionTreeClassifier(max_depth=2)\n",
    "cart.fit(X, y)\n",
    "\n",
    "cart_text = export_text(cart,feature_names=[i for i in range(D)])"
   ]
  },
  {
   "cell_type": "code",
   "execution_count": 7,
   "metadata": {},
   "outputs": [
    {
     "name": "stdout",
     "output_type": "stream",
     "text": [
      "|--- 6 <= 0.52\n",
      "|   |--- 0 <= 0.27\n",
      "|   |   |--- class: 3\n",
      "|   |--- 0 >  0.27\n",
      "|   |   |--- class: 1\n",
      "|--- 6 >  0.52\n",
      "|   |--- 5 <= 0.17\n",
      "|   |   |--- class: 2\n",
      "|   |--- 5 >  0.17\n",
      "|   |   |--- class: 2\n",
      "\n"
     ]
    }
   ],
   "source": [
    "print(cart_text)"
   ]
  },
  {
   "cell_type": "code",
   "execution_count": 8,
   "metadata": {},
   "outputs": [
    {
     "name": "stdout",
     "output_type": "stream",
     "text": [
      "action space: Box(0.0, 6.999, (1,), float32)\n",
      "observation space: Box(-1.0, 6.0, (6,), float32)\n"
     ]
    }
   ],
   "source": [
    "env = DecisionTreeEnv(X, y, 2, num_class, None)"
   ]
  },
  {
   "cell_type": "code",
   "execution_count": 9,
   "metadata": {},
   "outputs": [
    {
     "name": "stdout",
     "output_type": "stream",
     "text": [
      "node: 3, label_counts: {1: 14, 2: 0, 3: 70}\n",
      "node: 4, label_counts: {1: 55, 2: 2, 3: 0}\n",
      "node: 5, label_counts: {1: 1, 2: 6, 3: 0}\n",
      "node: 6, label_counts: {1: 0, 2: 62, 3: 0}\n"
     ]
    }
   ],
   "source": [
    "env.tree.add_node(0, 6, 0.52)\n",
    "env.tree.add_node(1, 0, 0.27)\n",
    "env.tree.add_node(2, 5, 0.17)\n",
    "env._assign_leaf_classes()"
   ]
  },
  {
   "cell_type": "code",
   "execution_count": 10,
   "metadata": {},
   "outputs": [
    {
     "name": "stdout",
     "output_type": "stream",
     "text": [
      "|--- Feature 6 <= 0.52\n",
      "|   |--- Feature 0 <= 0.27\n",
      "|   |   |--- class: 3\n",
      "|   |--- Feature 0 >  0.27\n",
      "|   |   |--- class: 1\n",
      "|--- Feature 6 >  0.52\n",
      "|   |--- Feature 5 <= 0.17\n",
      "|   |   |--- class: 2\n",
      "|   |--- Feature 5 >  0.17\n",
      "|   |   |--- class: 2\n",
      "\n"
     ]
    }
   ],
   "source": [
    "print(env.tree.export_mytree())"
   ]
  },
  {
   "cell_type": "code",
   "execution_count": null,
   "metadata": {},
   "outputs": [],
   "source": []
  }
 ],
 "metadata": {
  "kernelspec": {
   "display_name": "base",
   "language": "python",
   "name": "python3"
  },
  "language_info": {
   "codemirror_mode": {
    "name": "ipython",
    "version": 3
   },
   "file_extension": ".py",
   "mimetype": "text/x-python",
   "name": "python",
   "nbconvert_exporter": "python",
   "pygments_lexer": "ipython3",
   "version": "3.12.4"
  }
 },
 "nbformat": 4,
 "nbformat_minor": 2
}
