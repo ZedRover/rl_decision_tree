{
 "cells": [
  {
   "cell_type": "code",
   "execution_count": 1,
   "metadata": {},
   "outputs": [],
   "source": [
    "from test_3 import DecisionTree, DecisionTreeEnv\n",
    "import numpy as np"
   ]
  },
  {
   "cell_type": "code",
   "execution_count": 2,
   "metadata": {},
   "outputs": [],
   "source": [
    "\n",
    "data = np.loadtxt('data/small_toy',delimiter=',')"
   ]
  },
  {
   "cell_type": "code",
   "execution_count": 3,
   "metadata": {},
   "outputs": [],
   "source": [
    "X, y = data[:, :-1], data[:, -1].astype(int)"
   ]
  },
  {
   "cell_type": "code",
   "execution_count": 4,
   "metadata": {},
   "outputs": [],
   "source": [
    "M, D = X.shape\n",
    "num_class = len(np.unique(y))\n",
    "tree = DecisionTree(max_depth=2, n_classes=num_class)"
   ]
  },
  {
   "cell_type": "code",
   "execution_count": 5,
   "metadata": {},
   "outputs": [],
   "source": [
    "# |--- Feature 0 <= 0.83\n",
    "# |   |--- Feature 0 <= 0.17\n",
    "# |   |   |--- class: 1\n",
    "# |   |--- Feature 0 >  0.17\n",
    "# |   |   |--- class: 2\n",
    "# |--- Feature 0 >  0.83\n",
    "# |   |--- class: 3\n",
    "\n",
    "env = DecisionTreeEnv(X, y, 2, num_class, None)"
   ]
  },
  {
   "cell_type": "code",
   "execution_count": 6,
   "metadata": {},
   "outputs": [],
   "source": [
    "env.tree.add_node(0, 0, 0.83)\n",
    "env.tree.add_node(1, 0, 0.17)\n",
    "env.tree.add_node(2, 0, 1)\n",
    "env._assign_leaf_classes()\n"
   ]
  },
  {
   "cell_type": "code",
   "execution_count": 8,
   "metadata": {},
   "outputs": [],
   "source": [
    "env.tree.nodes[5]['leaf_class'] = 3\n",
    "env.tree.nodes[6]['leaf_class'] = 3"
   ]
  },
  {
   "cell_type": "code",
   "execution_count": 11,
   "metadata": {},
   "outputs": [
    {
     "data": {
      "text/plain": [
       "{0: {'feature': 0, 'threshold': 0.83, 'leaf_class': None},\n",
       " 1: {'feature': 0, 'threshold': 0.17, 'leaf_class': None},\n",
       " 2: {'feature': 0, 'threshold': 1, 'leaf_class': None},\n",
       " 3: {'feature': None, 'threshold': None, 'leaf_class': 1},\n",
       " 4: {'feature': None, 'threshold': None, 'leaf_class': 2},\n",
       " 5: {'feature': None, 'threshold': None, 'leaf_class': 3},\n",
       " 6: {'feature': None, 'threshold': None, 'leaf_class': 3}}"
      ]
     },
     "execution_count": 11,
     "metadata": {},
     "output_type": "execute_result"
    }
   ],
   "source": [
    "env.tree.nodes"
   ]
  },
  {
   "cell_type": "code",
   "execution_count": 9,
   "metadata": {},
   "outputs": [
    {
     "data": {
      "text/plain": [
       "array([1, 1, 1, 2, 2, 2, 2, 2, 2, 3, 3, 3, 2])"
      ]
     },
     "execution_count": 9,
     "metadata": {},
     "output_type": "execute_result"
    }
   ],
   "source": [
    "env.tree.predict(X)"
   ]
  },
  {
   "cell_type": "code",
   "execution_count": 20,
   "metadata": {},
   "outputs": [
    {
     "data": {
      "text/plain": [
       "array([1, 1, 1, 2, 2, 2, 2, 2, 2, 3, 3, 3, 2])"
      ]
     },
     "execution_count": 20,
     "metadata": {},
     "output_type": "execute_result"
    }
   ],
   "source": [
    "from sklearn.tree import DecisionTreeClassifier\n",
    "from sklearn.tree import export_text\n",
    "from sklearn.metrics import accuracy_score\n",
    "cart = DecisionTreeClassifier(max_depth=2)\n",
    "cart.fit(X, y)\n",
    "cart.predict(X)"
   ]
  },
  {
   "cell_type": "code",
   "execution_count": 18,
   "metadata": {},
   "outputs": [
    {
     "name": "stdout",
     "output_type": "stream",
     "text": [
      "|--- feature_0 <= 0.83\n",
      "|   |--- feature_0 <= 0.17\n",
      "|   |   |--- class: 1\n",
      "|   |--- feature_0 >  0.17\n",
      "|   |   |--- class: 2\n",
      "|--- feature_0 >  0.83\n",
      "|   |--- class: 3\n",
      "\n"
     ]
    }
   ],
   "source": [
    "print(export_text(cart, feature_names=['feature_0',\"feature_1\"]))"
   ]
  },
  {
   "cell_type": "code",
   "execution_count": 21,
   "metadata": {},
   "outputs": [
    {
     "data": {
      "text/plain": [
       "0.7692307692307693"
      ]
     },
     "execution_count": 21,
     "metadata": {},
     "output_type": "execute_result"
    }
   ],
   "source": [
    "accuracy_score(y, cart.predict(X))"
   ]
  },
  {
   "cell_type": "code",
   "execution_count": 22,
   "metadata": {},
   "outputs": [
    {
     "data": {
      "text/plain": [
       "0.7692307692307693"
      ]
     },
     "execution_count": 22,
     "metadata": {},
     "output_type": "execute_result"
    }
   ],
   "source": [
    "accuracy_score(y, env.tree.predict(X))"
   ]
  },
  {
   "cell_type": "code",
   "execution_count": null,
   "metadata": {},
   "outputs": [],
   "source": []
  }
 ],
 "metadata": {
  "kernelspec": {
   "display_name": "base",
   "language": "python",
   "name": "python3"
  },
  "language_info": {
   "codemirror_mode": {
    "name": "ipython",
    "version": 3
   },
   "file_extension": ".py",
   "mimetype": "text/x-python",
   "name": "python",
   "nbconvert_exporter": "python",
   "pygments_lexer": "ipython3",
   "version": "3.12.4"
  }
 },
 "nbformat": 4,
 "nbformat_minor": 2
}
